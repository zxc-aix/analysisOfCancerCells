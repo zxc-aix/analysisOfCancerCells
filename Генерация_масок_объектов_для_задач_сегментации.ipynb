{
  "cells": [
    {
      "cell_type": "markdown",
      "metadata": {
        "id": "view-in-github",
        "colab_type": "text"
      },
      "source": [
        "<a href=\"https://colab.research.google.com/github/zxc-aix/favouriteTeacher/blob/main/%D0%93%D0%B5%D0%BD%D0%B5%D1%80%D0%B0%D1%86%D0%B8%D1%8F_%D0%BC%D0%B0%D1%81%D0%BE%D0%BA_%D0%BE%D0%B1%D1%8A%D0%B5%D0%BA%D1%82%D0%BE%D0%B2_%D0%B4%D0%BB%D1%8F_%D0%B7%D0%B0%D0%B4%D0%B0%D1%87_%D1%81%D0%B5%D0%B3%D0%BC%D0%B5%D0%BD%D1%82%D0%B0%D1%86%D0%B8%D0%B8.ipynb\" target=\"_parent\"><img src=\"https://colab.research.google.com/assets/colab-badge.svg\" alt=\"Open In Colab\"/></a>"
      ]
    },
    {
      "cell_type": "markdown",
      "metadata": {
        "id": "b7c0041e"
      },
      "source": [
        "# Используем SAM для решения задачи"
      ],
      "id": "b7c0041e"
    },
    {
      "cell_type": "markdown",
      "metadata": {
        "id": "c0b71431"
      },
      "source": [
        "## Окружение Setup"
      ],
      "id": "c0b71431"
    },
    {
      "cell_type": "markdown",
      "metadata": {
        "id": "47e5a78f"
      },
      "source": [
        "не забываем установить использование GPU"
      ],
      "id": "47e5a78f"
    },
    {
      "cell_type": "code",
      "execution_count": null,
      "metadata": {
        "id": "4fe300fb"
      },
      "outputs": [],
      "source": [
        "using_colab = True"
      ],
      "id": "4fe300fb"
    },
    {
      "cell_type": "code",
      "execution_count": null,
      "metadata": {
        "colab": {
          "base_uri": "https://localhost:8080/"
        },
        "id": "0685a2f5",
        "outputId": "505bcbb9-95f4-4979-fe3b-5b6b28f4cc9f"
      },
      "outputs": [
        {
          "output_type": "stream",
          "name": "stdout",
          "text": [
            "PyTorch version: 2.1.0+cu121\n",
            "Torchvision version: 0.16.0+cu121\n",
            "CUDA is available: True\n",
            "Requirement already satisfied: opencv-python in /usr/local/lib/python3.10/dist-packages (4.8.0.76)\n",
            "Requirement already satisfied: matplotlib in /usr/local/lib/python3.10/dist-packages (3.7.1)\n",
            "Requirement already satisfied: numpy>=1.21.2 in /usr/local/lib/python3.10/dist-packages (from opencv-python) (1.23.5)\n",
            "Requirement already satisfied: contourpy>=1.0.1 in /usr/local/lib/python3.10/dist-packages (from matplotlib) (1.2.0)\n",
            "Requirement already satisfied: cycler>=0.10 in /usr/local/lib/python3.10/dist-packages (from matplotlib) (0.12.1)\n",
            "Requirement already satisfied: fonttools>=4.22.0 in /usr/local/lib/python3.10/dist-packages (from matplotlib) (4.47.0)\n",
            "Requirement already satisfied: kiwisolver>=1.0.1 in /usr/local/lib/python3.10/dist-packages (from matplotlib) (1.4.5)\n",
            "Requirement already satisfied: packaging>=20.0 in /usr/local/lib/python3.10/dist-packages (from matplotlib) (23.2)\n",
            "Requirement already satisfied: pillow>=6.2.0 in /usr/local/lib/python3.10/dist-packages (from matplotlib) (9.4.0)\n",
            "Requirement already satisfied: pyparsing>=2.3.1 in /usr/local/lib/python3.10/dist-packages (from matplotlib) (3.1.1)\n",
            "Requirement already satisfied: python-dateutil>=2.7 in /usr/local/lib/python3.10/dist-packages (from matplotlib) (2.8.2)\n",
            "Requirement already satisfied: six>=1.5 in /usr/local/lib/python3.10/dist-packages (from python-dateutil>=2.7->matplotlib) (1.16.0)\n",
            "Collecting git+https://github.com/facebookresearch/segment-anything.git\n",
            "  Cloning https://github.com/facebookresearch/segment-anything.git to /tmp/pip-req-build-78xr2po1\n",
            "  Running command git clone --filter=blob:none --quiet https://github.com/facebookresearch/segment-anything.git /tmp/pip-req-build-78xr2po1\n",
            "  Resolved https://github.com/facebookresearch/segment-anything.git to commit 6fdee8f2727f4506cfbbe553e23b895e27956588\n",
            "  Preparing metadata (setup.py) ... \u001b[?25l\u001b[?25hdone\n",
            "Building wheels for collected packages: segment-anything\n",
            "  Building wheel for segment-anything (setup.py) ... \u001b[?25l\u001b[?25hdone\n",
            "  Created wheel for segment-anything: filename=segment_anything-1.0-py3-none-any.whl size=36587 sha256=75e182c6a17cfa87ab4e251841ccca6e60f33719d3e0ef0f546556807cbda8ce\n",
            "  Stored in directory: /tmp/pip-ephem-wheel-cache-u75gj8sl/wheels/10/cf/59/9ccb2f0a1bcc81d4fbd0e501680b5d088d690c6cfbc02dc99d\n",
            "Successfully built segment-anything\n",
            "Installing collected packages: segment-anything\n",
            "Successfully installed segment-anything-1.0\n",
            "--2024-01-15 06:18:16--  https://raw.githubusercontent.com/facebookresearch/segment-anything/main/notebooks/images/dog.jpg\n",
            "Resolving raw.githubusercontent.com (raw.githubusercontent.com)... 185.199.108.133, 185.199.109.133, 185.199.110.133, ...\n",
            "Connecting to raw.githubusercontent.com (raw.githubusercontent.com)|185.199.108.133|:443... connected.\n",
            "HTTP request sent, awaiting response... 200 OK\n",
            "Length: 99846 (98K) [image/jpeg]\n",
            "Saving to: ‘images/dog.jpg’\n",
            "\n",
            "dog.jpg             100%[===================>]  97.51K  --.-KB/s    in 0.01s   \n",
            "\n",
            "2024-01-15 06:18:16 (7.17 MB/s) - ‘images/dog.jpg’ saved [99846/99846]\n",
            "\n",
            "--2024-01-15 06:18:16--  https://dl.fbaipublicfiles.com/segment_anything/sam_vit_h_4b8939.pth\n",
            "Resolving dl.fbaipublicfiles.com (dl.fbaipublicfiles.com)... 3.162.163.34, 3.162.163.11, 3.162.163.51, ...\n",
            "Connecting to dl.fbaipublicfiles.com (dl.fbaipublicfiles.com)|3.162.163.34|:443... connected.\n",
            "HTTP request sent, awaiting response... 200 OK\n",
            "Length: 2564550879 (2.4G) [binary/octet-stream]\n",
            "Saving to: ‘sam_vit_h_4b8939.pth’\n",
            "\n",
            "sam_vit_h_4b8939.pt 100%[===================>]   2.39G   255MB/s    in 10s     \n",
            "\n",
            "2024-01-15 06:18:26 (239 MB/s) - ‘sam_vit_h_4b8939.pth’ saved [2564550879/2564550879]\n",
            "\n"
          ]
        }
      ],
      "source": [
        "if using_colab:\n",
        "    import torch\n",
        "    import torchvision\n",
        "    print(\"PyTorch version:\", torch.__version__)\n",
        "    print(\"Torchvision version:\", torchvision.__version__)\n",
        "    print(\"CUDA is available:\", torch.cuda.is_available())\n",
        "    import sys\n",
        "    !{sys.executable} -m pip install opencv-python matplotlib\n",
        "    !{sys.executable} -m pip install 'git+https://github.com/facebookresearch/segment-anything.git'\n",
        "\n",
        "    !mkdir images\n",
        "    !wget -P images https://raw.githubusercontent.com/facebookresearch/segment-anything/main/notebooks/images/dog.jpg\n",
        "\n",
        "    !wget https://dl.fbaipublicfiles.com/segment_anything/sam_vit_h_4b8939.pth"
      ],
      "id": "0685a2f5"
    },
    {
      "cell_type": "markdown",
      "metadata": {
        "id": "fd2bc687"
      },
      "source": [
        "## маска"
      ],
      "id": "fd2bc687"
    },
    {
      "cell_type": "code",
      "execution_count": null,
      "metadata": {
        "id": "560725a2"
      },
      "outputs": [],
      "source": [
        "import numpy as np\n",
        "import torch\n",
        "import matplotlib.pyplot as plt\n",
        "import cv2"
      ],
      "id": "560725a2"
    },
    {
      "cell_type": "code",
      "execution_count": null,
      "metadata": {
        "id": "74b6e5f0"
      },
      "outputs": [],
      "source": [
        "def show_anns(anns):\n",
        "    if len(anns) == 0:\n",
        "        return\n",
        "    sorted_anns = sorted(anns, key=(lambda x: x['area']), reverse=True)\n",
        "    ax = plt.gca()\n",
        "    ax.set_autoscale_on(False)\n",
        "    polygons = []\n",
        "    color = []\n",
        "    for ann in sorted_anns:\n",
        "        m = ann['segmentation']\n",
        "        img = np.ones((m.shape[0], m.shape[1], 3))\n",
        "        color_mask = np.random.random((1, 3)).tolist()[0]\n",
        "        for i in range(3):\n",
        "            img[:,:,i] = color_mask[i]\n",
        "        ax.imshow(np.dstack((img, m*0.35)))"
      ],
      "id": "74b6e5f0"
    },
    {
      "cell_type": "markdown",
      "metadata": {
        "id": "27c41445"
      },
      "source": [
        "## Работаем с изображением"
      ],
      "id": "27c41445"
    },
    {
      "cell_type": "code",
      "execution_count": null,
      "metadata": {
        "colab": {
          "base_uri": "https://localhost:8080/"
        },
        "id": "VOEAEc9yPOHl",
        "outputId": "3106a228-4138-4ca0-fdc5-374e447f82fa"
      },
      "outputs": [
        {
          "output_type": "stream",
          "name": "stdout",
          "text": [
            "Mounted at /content/gdrive/\n"
          ]
        }
      ],
      "source": [
        "# Сборка Google Drive directory and files\n",
        "from google.colab import drive\n",
        "drive.mount('/content/gdrive/', force_remount=True)\n",
        "\n"
      ],
      "id": "VOEAEc9yPOHl"
    },
    {
      "cell_type": "code",
      "execution_count": null,
      "metadata": {
        "colab": {
          "base_uri": "https://localhost:8080/"
        },
        "id": "Bb-WciAwx2U0",
        "outputId": "1280cd2e-fe28-48dc-b34b-f82bec1d092a"
      },
      "outputs": [
        {
          "output_type": "stream",
          "name": "stdout",
          "text": [
            "automatic_mask_generator_example.ipynb\tpredictor_example.ipynb  sam_vit_h_4b8939.pth.2\n",
            "images\t\t\t\t\tsam_vit_h_4b8939.pth\n",
            "onnx_model_example.ipynb\t\tsam_vit_h_4b8939.pth.1\n",
            "/content\n",
            "/content/gdrive/My Drive/SegAny\n",
            "automatic_mask_generator_example.ipynb\tpredictor_example.ipynb  sam_vit_h_4b8939.pth.2\n",
            "images\t\t\t\t\tsam_vit_h_4b8939.pth\n",
            "onnx_model_example.ipynb\t\tsam_vit_h_4b8939.pth.1\n",
            "/content/gdrive/My Drive/SegAny\n"
          ]
        }
      ],
      "source": [
        "!ln -s /content/gdrive/My\\ Drive/ /mydrive\n",
        "!ls /mydrive/SegAny\n",
        "! pwd\n",
        "\n",
        "%cd /mydrive/SegAny\n",
        "! ls\n",
        "! pwd"
      ],
      "id": "Bb-WciAwx2U0"
    },
    {
      "cell_type": "code",
      "execution_count": null,
      "metadata": {
        "id": "ad354922",
        "colab": {
          "base_uri": "https://localhost:8080/",
          "height": 200
        },
        "outputId": "6a553591-4626-430d-d735-8c08e81728a4"
      },
      "outputs": [
        {
          "output_type": "error",
          "ename": "error",
          "evalue": "OpenCV(4.8.0) /io/opencv/modules/imgproc/src/color.cpp:182: error: (-215:Assertion failed) !_src.empty() in function 'cvtColor'\n",
          "traceback": [
            "\u001b[0;31m---------------------------------------------------------------------------\u001b[0m",
            "\u001b[0;31merror\u001b[0m                                     Traceback (most recent call last)",
            "\u001b[0;32m<ipython-input-7-ec5bd2796b3b>\u001b[0m in \u001b[0;36m<cell line: 2>\u001b[0;34m()\u001b[0m\n\u001b[1;32m      1\u001b[0m \u001b[0mimage\u001b[0m \u001b[0;34m=\u001b[0m \u001b[0mcv2\u001b[0m\u001b[0;34m.\u001b[0m\u001b[0mimread\u001b[0m\u001b[0;34m(\u001b[0m\u001b[0;34m'images/micro_1.jpg'\u001b[0m\u001b[0;34m)\u001b[0m\u001b[0;34m\u001b[0m\u001b[0;34m\u001b[0m\u001b[0m\n\u001b[0;32m----> 2\u001b[0;31m \u001b[0mimage\u001b[0m \u001b[0;34m=\u001b[0m \u001b[0mcv2\u001b[0m\u001b[0;34m.\u001b[0m\u001b[0mcvtColor\u001b[0m\u001b[0;34m(\u001b[0m\u001b[0mimage\u001b[0m\u001b[0;34m,\u001b[0m \u001b[0mcv2\u001b[0m\u001b[0;34m.\u001b[0m\u001b[0mCOLOR_BGR2RGB\u001b[0m\u001b[0;34m)\u001b[0m\u001b[0;34m\u001b[0m\u001b[0;34m\u001b[0m\u001b[0m\n\u001b[0m",
            "\u001b[0;31merror\u001b[0m: OpenCV(4.8.0) /io/opencv/modules/imgproc/src/color.cpp:182: error: (-215:Assertion failed) !_src.empty() in function 'cvtColor'\n"
          ]
        }
      ],
      "source": [
        "image = cv2.imread('images/micro_1.jpg')\n",
        "image = cv2.cvtColor(image, cv2.COLOR_BGR2RGB)"
      ],
      "id": "ad354922"
    },
    {
      "cell_type": "code",
      "execution_count": null,
      "metadata": {
        "id": "e0ac8c67"
      },
      "outputs": [],
      "source": [
        "plt.figure(figsize=(20,20))\n",
        "plt.imshow(image)\n",
        "plt.axis('off')\n",
        "plt.show()"
      ],
      "id": "e0ac8c67"
    },
    {
      "cell_type": "markdown",
      "metadata": {
        "id": "b8c2824a"
      },
      "source": [
        "## Генерация маски"
      ],
      "id": "b8c2824a"
    },
    {
      "cell_type": "code",
      "execution_count": null,
      "metadata": {
        "id": "1848a108"
      },
      "outputs": [],
      "source": [
        "import sys\n",
        "sys.path.append(\"..\")\n",
        "from segment_anything import sam_model_registry, SamAutomaticMaskGenerator, SamPredictor\n",
        "\n",
        "sam_checkpoint = \"sam_vit_h_4b8939.pth\"\n",
        "model_type = \"vit_h\"\n",
        "\n",
        "device = \"cuda\"\n",
        "\n",
        "sam = sam_model_registry[model_type](checkpoint=sam_checkpoint)\n",
        "sam.to(device=device)\n",
        "\n",
        "mask_generator = SamAutomaticMaskGenerator(sam)"
      ],
      "id": "1848a108"
    },
    {
      "cell_type": "code",
      "execution_count": null,
      "metadata": {
        "id": "391771c1"
      },
      "outputs": [],
      "source": [
        "masks = mask_generator.generate(image)"
      ],
      "id": "391771c1"
    },
    {
      "cell_type": "markdown",
      "metadata": {
        "id": "e36a1a39"
      },
      "source": [
        "Генерация возвращает список масок, где каждая маска - словарь, содержащий различные данные о маске.\n",
        "\n",
        "Ключи:\n",
        "\n",
        "segmentation: маска\n",
        "\n",
        "area: площадь маски в пикселях.\n",
        "\n",
        "bbox: граничная рамка маски в формате XYWH.\n",
        "\n",
        "predicted_iou: собственный прогноз модели относительно качества маски.\n",
        "\n",
        "point_coords: выбранная входная точка, которая сгенерировала эту маску\n",
        "\n",
        "stability_score: дополнительный показатель качества маски.\n",
        "\n",
        "crop_box: обрезка изображения, используемого для создания этой маски в формате XYWH."
      ],
      "id": "e36a1a39"
    },
    {
      "cell_type": "code",
      "execution_count": null,
      "metadata": {
        "id": "4fae8d66"
      },
      "outputs": [],
      "source": [
        "print(len(masks))\n",
        "print(masks[0].keys())"
      ],
      "id": "4fae8d66"
    },
    {
      "cell_type": "markdown",
      "metadata": {
        "id": "53009a1f"
      },
      "source": [
        "Все маски сгенерированные на изображении"
      ],
      "id": "53009a1f"
    },
    {
      "cell_type": "code",
      "execution_count": null,
      "metadata": {
        "id": "77ac29c5",
        "scrolled": false
      },
      "outputs": [],
      "source": [
        "plt.figure(figsize=(20,20))\n",
        "plt.imshow(image)\n",
        "show_anns(masks)\n",
        "plt.axis('off')\n",
        "plt.show()"
      ],
      "id": "77ac29c5"
    },
    {
      "cell_type": "markdown",
      "metadata": {
        "id": "00b3d6b2"
      },
      "source": [
        "## Автоматическое создание масок"
      ],
      "id": "00b3d6b2"
    },
    {
      "cell_type": "markdown",
      "metadata": {
        "id": "183de84e"
      },
      "source": [
        "настраиваемые параметры для автоматической генерации:"
      ],
      "id": "183de84e"
    },
    {
      "cell_type": "code",
      "execution_count": null,
      "metadata": {
        "id": "68364513"
      },
      "outputs": [],
      "source": [
        "mask_generator_2 = SamAutomaticMaskGenerator(\n",
        "    model=sam,\n",
        "    points_per_side=32,\n",
        "    pred_iou_thresh=0.86,\n",
        "    stability_score_thresh=0.92,\n",
        "    crop_n_layers=1,\n",
        "    crop_n_points_downscale_factor=2,\n",
        "    min_mask_region_area=100,  # нужна open-cv\n",
        ")"
      ],
      "id": "68364513"
    },
    {
      "cell_type": "code",
      "execution_count": null,
      "metadata": {
        "id": "bebcdaf1"
      },
      "outputs": [],
      "source": [
        "masks2 = mask_generator_2.generate(image)"
      ],
      "id": "bebcdaf1"
    },
    {
      "cell_type": "code",
      "execution_count": null,
      "metadata": {
        "id": "b8473f3c"
      },
      "outputs": [],
      "source": [
        "len(masks2)"
      ],
      "id": "b8473f3c"
    },
    {
      "cell_type": "code",
      "execution_count": null,
      "metadata": {
        "id": "fb702ae3"
      },
      "outputs": [],
      "source": [
        "plt.figure(figsize=(20,20))\n",
        "plt.imshow(image)\n",
        "show_anns(masks2)\n",
        "plt.axis('off')\n",
        "plt.show()"
      ],
      "id": "fb702ae3"
    },
    {
      "cell_type": "code",
      "execution_count": null,
      "metadata": {
        "id": "8c937160"
      },
      "outputs": [],
      "source": [],
      "id": "8c937160"
    }
  ],
  "metadata": {
    "accelerator": "GPU",
    "colab": {
      "provenance": [],
      "include_colab_link": true
    },
    "gpuClass": "standard",
    "kernelspec": {
      "display_name": "Python 3 (ipykernel)",
      "language": "python",
      "name": "python3"
    },
    "language_info": {
      "codemirror_mode": {
        "name": "ipython",
        "version": 3
      },
      "file_extension": ".py",
      "mimetype": "text/x-python",
      "name": "python",
      "nbconvert_exporter": "python",
      "pygments_lexer": "ipython3",
      "version": "3.8.0"
    }
  },
  "nbformat": 4,
  "nbformat_minor": 5
}